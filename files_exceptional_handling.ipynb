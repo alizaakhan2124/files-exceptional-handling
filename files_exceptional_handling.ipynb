{
  "nbformat": 4,
  "nbformat_minor": 0,
  "metadata": {
    "colab": {
      "provenance": []
    },
    "kernelspec": {
      "name": "python3",
      "display_name": "Python 3"
    },
    "language_info": {
      "name": "python"
    }
  },
  "cells": [
    {
      "cell_type": "code",
      "execution_count": null,
      "metadata": {
        "id": "faypMuHnTDSN"
      },
      "outputs": [],
      "source": [
        "Files, exceptional handling, logging and\n",
        "memory management Questions\n",
        "\n"
      ]
    },
    {
      "cell_type": "markdown",
      "source": [
        " Q1. What is the difference between interpreted and compiled language?\n",
        " Interpreted language: Code is translated line-by-line into machine code at runtime by an interpreter.\n",
        "\n",
        "Pros: Easy to debug, platform-independent, no need for separate compilation step.\n",
        "\n",
        "Cons: Slower execution because translation happens on the fly.\n",
        "\n",
        "Examples: Python, JavaScript.\n",
        "\n",
        "Compiled language: Code is translated entirely into machine code before execution by a compiler.\n",
        "\n",
        "Pros: Faster execution, better optimization.\n",
        "\n",
        "Cons: Slower development cycle, platform-dependent unless compiled for multiple targets."
      ],
      "metadata": {
        "id": "KVzP_MOwTJuL"
      }
    },
    {
      "cell_type": "markdown",
      "source": [
        "2.It’s a mechanism to handle runtime errors gracefully without crashing the program.\n",
        "You use try-except blocks to catch errors and respond to them."
      ],
      "metadata": {
        "id": "SWwUngcVT6DW"
      }
    },
    {
      "cell_type": "markdown",
      "source": [
        "3.The finally block is always executed, whether an exception occurs or not.\n",
        "\n",
        "Used for cleanup actions like closing files, releasing resources, or disconnecting from a database."
      ],
      "metadata": {
        "id": "rc240uI3UKZd"
      }
    },
    {
      "cell_type": "markdown",
      "source": [
        "4.Logging is used to record events, errors, or important information during program execution, instead of just printing to the console.\n",
        "\n",
        "->Helps with debugging, monitoring, and maintaining code.\n",
        "\n",
        "->Python’s built-in logging module supports multiple levels: DEBUG, INFO, WARNING, ERROR, CRITICAL."
      ],
      "metadata": {
        "id": "ML_3CVtYUXRJ"
      }
    },
    {
      "cell_type": "markdown",
      "source": [
        "5.__del__ is a destructor method, called when an object is about to be destroyed (garbage collected).\n",
        "\n",
        "Commonly used to release external resources like file handles or network connections.\n",
        "\n",
        "Not always guaranteed to run immediately (depends on garbage collection).\n",
        "Example:"
      ],
      "metadata": {
        "id": "dcLXmg9AUn-b"
      }
    },
    {
      "cell_type": "markdown",
      "source": [
        "6.import module: Imports the entire module\n",
        "- you access its contents with module.name.\n",
        "\n",
        "from module import name: Imports specific items from a module, allowing direct use without prefix."
      ],
      "metadata": {
        "id": "dNbMfFgWUwws"
      }
    },
    {
      "cell_type": "markdown",
      "source": [
        "7.Use multiple except blocks for different exceptions:\n",
        "\n"
      ],
      "metadata": {
        "id": "iiFlon0iVvWU"
      }
    },
    {
      "cell_type": "code",
      "source": [
        "try:\n",
        "    ...\n",
        "except ValueError:\n",
        "    ...\n",
        "except ZeroDivisionError:\n",
        "    ...\n"
      ],
      "metadata": {
        "id": "mvFKLn87Wcah"
      },
      "execution_count": 1,
      "outputs": []
    },
    {
      "cell_type": "markdown",
      "source": [
        "Or handle multiple in one block:"
      ],
      "metadata": {
        "id": "ADKPpAe8XPCd"
      }
    },
    {
      "cell_type": "code",
      "source": [
        "except (ValueError, ZeroDivisionError):\n",
        "    ...\n"
      ],
      "metadata": {
        "id": "wgxsjil7XTnZ"
      },
      "execution_count": null,
      "outputs": []
    },
    {
      "cell_type": "markdown",
      "source": [
        "8.Ensures the file is automatically closed after use, even if an error occurs. Improves safety and readability."
      ],
      "metadata": {
        "id": "l9UC6GrrXbnw"
      }
    },
    {
      "cell_type": "code",
      "source": [
        "with open(\"file.txt\", \"r\") as f:\n",
        "    data = f.read()\n"
      ],
      "metadata": {
        "id": "QGD1CMXCXxBd"
      },
      "execution_count": null,
      "outputs": []
    },
    {
      "cell_type": "markdown",
      "source": [
        "9.Multithreading: Multiple threads share the same memory space; good for I/O-bound tasks.\n",
        "\n",
        "Multiprocessing: Multiple processes, each with its own memory; good for CPU-bound tasks."
      ],
      "metadata": {
        "id": "5wPxt0yzX032"
      }
    },
    {
      "cell_type": "markdown",
      "source": [
        "10.Better than print() for debugging.\n",
        "\n",
        "-Supports multiple severity levels.\n",
        "\n",
        "-Can log to files, not just console.\n",
        "\n",
        "-Makes troubleshooting easier in production."
      ],
      "metadata": {
        "id": "RriTQyI-YI1x"
      }
    },
    {
      "cell_type": "markdown",
      "source": [
        "11.Automatic process of allocating and freeing memory using a private heap and garbage collector."
      ],
      "metadata": {
        "id": "bgyD6dg8YdVg"
      }
    },
    {
      "cell_type": "markdown",
      "source": [
        "12.Write risky code inside try.\n",
        "\n",
        "-Catch exceptions with except.\n",
        "\n",
        " -Use else for code that runs if no exception occurs.\n",
        "\n",
        "- Use finally for cleanup code."
      ],
      "metadata": {
        "id": "qOWcMFV-Ye7E"
      }
    },
    {
      "cell_type": "markdown",
      "source": [
        "13.Prevents memory leaks, optimizes performance, and ensures the program runs efficiently without exhausting system resources."
      ],
      "metadata": {
        "id": "RFntY_HrYzKY"
      }
    },
    {
      "cell_type": "markdown",
      "source": [
        "14.try: Wraps code that might raise exceptions.\n",
        "\n",
        "except: Catches and handles exceptions to prevent crashes."
      ],
      "metadata": {
        "id": "T62sROUIY1gP"
      }
    },
    {
      "cell_type": "markdown",
      "source": [
        "15.Uses reference counting and generational garbage collection to automatically free memory from objects no longer in use.\n",
        "\n"
      ],
      "metadata": {
        "id": "rFG9Vb3nZFFt"
      }
    },
    {
      "cell_type": "markdown",
      "source": [
        "16.Runs only if no exception is raised in the try block.\n",
        "\n",
        "Used for code that should execute when try succeeds."
      ],
      "metadata": {
        "id": "TixUZQmQZMiX"
      }
    },
    {
      "cell_type": "markdown",
      "source": [
        "17.DEBUG – Detailed info for debugging.\n",
        "\n",
        "INFO – General program events.\n",
        "\n",
        "WARNING – Something unexpected, but program still runs.\n",
        "\n",
        "ERROR – A serious issue; some functionality failed.\n",
        "\n",
        "CRITICAL – Severe error; program may stop.\n"
      ],
      "metadata": {
        "id": "pMT0x-lqZ8hn"
      }
    },
    {
      "cell_type": "markdown",
      "source": [
        "18.os.fork(): Creates a new process by duplicating the current one (Unix/Linux only).\n",
        "\n",
        "multiprocessing: Cross-platform library for creating processes, with built-in tools for inter-process communication."
      ],
      "metadata": {
        "id": "QGMKmyOqaGo5"
      }
    },
    {
      "cell_type": "markdown",
      "source": [
        "19.Ensures all data is saved to disk.\n",
        "\n",
        "Releases system resources.\n",
        "\n",
        "Prevents file corruption or memory leaks."
      ],
      "metadata": {
        "id": "aOOZYEnKaNRL"
      }
    },
    {
      "cell_type": "markdown",
      "source": [
        "20.read(): Reads the entire file (or specified number of bytes).\n",
        "\n",
        "readline(): Reads one line at a time from the file."
      ],
      "metadata": {
        "id": "GdnLfSfeaR5g"
      }
    },
    {
      "cell_type": "markdown",
      "source": [
        "21.A built-in module for recording messages about program execution at different severity levels, to console or files."
      ],
      "metadata": {
        "id": "0IBLXdtiaXJk"
      }
    },
    {
      "cell_type": "markdown",
      "source": [
        "22.Provides functions for interacting with the operating system: creating, removing, renaming, and checking files/directories."
      ],
      "metadata": {
        "id": "RLD4LH73abRP"
      }
    },
    {
      "cell_type": "markdown",
      "source": [
        "23.Circular references can delay garbage collection.\n",
        "\n",
        "Large unused objects may stay in memory longer.\n",
        "\n",
        "Performance overhead from garbage collector in memory-intensive applica"
      ],
      "metadata": {
        "id": "GbMQEyBqahV5"
      }
    },
    {
      "cell_type": "markdown",
      "source": [
        "24.Use the raise keyword:"
      ],
      "metadata": {
        "id": "OVHu1uHaano6"
      }
    },
    {
      "cell_type": "code",
      "source": [
        "raise ValueError(\"Invalid input\")\n"
      ],
      "metadata": {
        "id": "e7WzL_Fgaty2"
      },
      "execution_count": null,
      "outputs": []
    },
    {
      "cell_type": "markdown",
      "source": [
        "25.Improves performance in I/O-bound tasks.\n",
        "\n",
        "Allows concurrent operations (e.g., handling multiple requests at once).\n",
        "\n",
        "Makes programs more responsive (e.g., in GUI applications)."
      ],
      "metadata": {
        "id": "hNLPwuNbaxYw"
      }
    },
    {
      "cell_type": "markdown",
      "source": [
        "PRACTICAL QUESTIONS"
      ],
      "metadata": {
        "id": "aiGkgrdGa4zO"
      }
    },
    {
      "cell_type": "code",
      "source": [
        "with open(\"myfile.txt\", \"w\") as f:\n",
        "    f.write(\"Hello, Python!\")\n"
      ],
      "metadata": {
        "id": "JY_pZufvrLIR"
      },
      "execution_count": null,
      "outputs": []
    },
    {
      "cell_type": "markdown",
      "source": [
        "QUESTION 2"
      ],
      "metadata": {
        "id": "EuPWZNcWrUz2"
      }
    },
    {
      "cell_type": "code",
      "source": [
        "with open(\"myfile.txt\", \"r\") as f:\n",
        "    for line in f:\n",
        "        print(line.strip())\n"
      ],
      "metadata": {
        "id": "nHnNwajArXeX"
      },
      "execution_count": null,
      "outputs": []
    },
    {
      "cell_type": "markdown",
      "source": [
        "QUES 3"
      ],
      "metadata": {
        "id": "UyXhNYBUrYwP"
      }
    },
    {
      "cell_type": "code",
      "source": [
        "try:\n",
        "    with open(\"data.txt\", \"r\") as f:\n",
        "        print(f.read())\n",
        "except FileNotFoundError:\n",
        "    print(\"File not found.\")\n"
      ],
      "metadata": {
        "id": "2QDFo7ZvraN3"
      },
      "execution_count": null,
      "outputs": []
    },
    {
      "cell_type": "markdown",
      "source": [
        "QUES 4."
      ],
      "metadata": {
        "id": "ffZ9hVm9reoV"
      }
    },
    {
      "cell_type": "code",
      "source": [
        "with open(\"source.txt\", \"r\") as src, open(\"target.txt\", \"w\") as tgt:\n",
        "    tgt.write(src.read())\n"
      ],
      "metadata": {
        "id": "zC01_xeKriqI"
      },
      "execution_count": null,
      "outputs": []
    },
    {
      "cell_type": "markdown",
      "source": [
        "QUES 5."
      ],
      "metadata": {
        "id": "Xkef8okPrjhs"
      }
    },
    {
      "cell_type": "code",
      "source": [
        "try:\n",
        "    result = 10 / 0\n",
        "except ZeroDivisionError:\n",
        "    print(\"Cannot divide by zero!\")\n"
      ],
      "metadata": {
        "id": "CxaMlwa2rqmx"
      },
      "execution_count": null,
      "outputs": []
    },
    {
      "cell_type": "markdown",
      "source": [
        "QUES 6."
      ],
      "metadata": {
        "id": "bJhFRBFYrsQV"
      }
    },
    {
      "cell_type": "code",
      "source": [
        "import logging\n",
        "logging.basicConfig(filename=\"errors.log\", level=logging.ERROR)\n",
        "\n",
        "try:\n",
        "    result = 10 / 0\n",
        "except ZeroDivisionError as e:\n",
        "    logging.error(\"Division by zero error: %s\", e)\n"
      ],
      "metadata": {
        "id": "aKv-I1bHrtYy"
      },
      "execution_count": null,
      "outputs": []
    },
    {
      "cell_type": "markdown",
      "source": [
        " QUES 7."
      ],
      "metadata": {
        "id": "q65Y-Kybrv0g"
      }
    },
    {
      "cell_type": "code",
      "source": [
        "import logging\n",
        "logging.basicConfig(level=logging.DEBUG)\n",
        "\n",
        "logging.info(\"This is an info message\")\n",
        "logging.warning(\"This is a warning\")\n",
        "logging.error(\"This is an error\")\n"
      ],
      "metadata": {
        "id": "7gU9ZOIdrxlj"
      },
      "execution_count": null,
      "outputs": []
    },
    {
      "cell_type": "markdown",
      "source": [
        "QUES 8."
      ],
      "metadata": {
        "id": "NDNbTSolr4g7"
      }
    },
    {
      "cell_type": "code",
      "source": [
        "try:\n",
        "    with open(\"data.txt\", \"r\") as f:\n",
        "        print(f.read())\n",
        "except FileNotFoundError:\n",
        "    print(\"File does not exist.\")\n"
      ],
      "metadata": {
        "id": "uf3IIzCsr5w7"
      },
      "execution_count": null,
      "outputs": []
    },
    {
      "cell_type": "markdown",
      "source": [
        "QUES 9."
      ],
      "metadata": {
        "id": "A6y8Afrtr6tK"
      }
    },
    {
      "cell_type": "code",
      "source": [
        "with open(\"myfile.txt\", \"r\") as f:\n",
        "    lines = [line.strip() for line in f]\n",
        "print(lines)\n"
      ],
      "metadata": {
        "id": "AVw9YjL0r7w_"
      },
      "execution_count": null,
      "outputs": []
    },
    {
      "cell_type": "markdown",
      "source": [
        "QUES 10."
      ],
      "metadata": {
        "id": "ObsvfqXCsCLL"
      }
    },
    {
      "cell_type": "code",
      "source": [
        "with open(\"myfile.txt\", \"a\") as f:\n",
        "    f.write(\"\\nNew line of text\")\n"
      ],
      "metadata": {
        "id": "IwO7EJn3sDTC"
      },
      "execution_count": null,
      "outputs": []
    },
    {
      "cell_type": "markdown",
      "source": [
        "QUES 11."
      ],
      "metadata": {
        "id": "ga1qnNOasHou"
      }
    },
    {
      "cell_type": "code",
      "source": [
        "data = {\"name\": \"Alice\"}\n",
        "try:\n",
        "    print(data[\"age\"])\n",
        "except KeyError:\n",
        "    print(\"Key not found in dictionary.\")\n"
      ],
      "metadata": {
        "id": "Y4cUvx_ltZrX"
      },
      "execution_count": null,
      "outputs": []
    },
    {
      "cell_type": "markdown",
      "source": [
        "QUES 12."
      ],
      "metadata": {
        "id": "hZJ1KYDdsKph"
      }
    },
    {
      "cell_type": "code",
      "source": [
        "try:\n",
        "    num = int(\"abc\")\n",
        "    result = 10 / 0\n",
        "except ValueError:\n",
        "    print(\"Invalid number format.\")\n",
        "except ZeroDivisionError:\n",
        "    print(\"Cannot divide by zero.\")\n"
      ],
      "metadata": {
        "id": "BGchsFYuta3B"
      },
      "execution_count": null,
      "outputs": []
    },
    {
      "cell_type": "markdown",
      "source": [
        "QUES 13."
      ],
      "metadata": {
        "id": "hGuM0QVwsJJc"
      }
    },
    {
      "cell_type": "code",
      "source": [
        "import os\n",
        "\n",
        "if os.path.exists(\"data.txt\"):\n",
        "    with open(\"data.txt\", \"r\") as f:\n",
        "        print(f.read())\n",
        "else:\n",
        "    print(\"File does not exist.\")\n"
      ],
      "metadata": {
        "id": "1RamWMFrthWl"
      },
      "execution_count": null,
      "outputs": []
    },
    {
      "cell_type": "markdown",
      "source": [
        "QUES 14."
      ],
      "metadata": {
        "id": "gRmpsup7sQDP"
      }
    },
    {
      "cell_type": "code",
      "source": [
        "import logging\n",
        "logging.basicConfig(filename=\"app.log\", level=logging.INFO)\n",
        "\n",
        "logging.info(\"Program started.\")\n",
        "try:\n",
        "    result = 10 / 0\n",
        "except ZeroDivisionError:\n",
        "    logging.error(\"Division by zero occurred.\")\n"
      ],
      "metadata": {
        "id": "xqh6McUltk6_"
      },
      "execution_count": null,
      "outputs": []
    },
    {
      "cell_type": "markdown",
      "source": [
        "QUES 15"
      ],
      "metadata": {
        "id": "XT9zPlHbsR42"
      }
    },
    {
      "cell_type": "code",
      "source": [
        "with open(\"data.txt\", \"r\") as f:\n",
        "    content = f.read()\n",
        "    if content.strip():\n",
        "        print(content)\n",
        "    else:\n",
        "        print(\"File is empty.\")\n"
      ],
      "metadata": {
        "id": "F_QkwwULtoRO"
      },
      "execution_count": null,
      "outputs": []
    },
    {
      "cell_type": "markdown",
      "source": [
        "QUES 16."
      ],
      "metadata": {
        "id": "6GUgXbbrsT9_"
      }
    },
    {
      "cell_type": "code",
      "source": [
        "# pip install memory-profiler\n",
        "from memory_profiler import profile\n",
        "\n",
        "@profile\n",
        "def test():\n",
        "    a = [i for i in range(10000)]\n",
        "    return a\n",
        "\n",
        "test()\n"
      ],
      "metadata": {
        "id": "nWBtHg0jttd1"
      },
      "execution_count": null,
      "outputs": []
    },
    {
      "cell_type": "markdown",
      "source": [
        "QUES 17."
      ],
      "metadata": {
        "id": "-aVzNkbhsWDq"
      }
    },
    {
      "cell_type": "code",
      "source": [
        "numbers = [1, 2, 3, 4, 5]\n",
        "with open(\"numbers.txt\", \"w\") as f:\n",
        "    for num in numbers:\n",
        "        f.write(f\"{num}\\n\")\n"
      ],
      "metadata": {
        "id": "jC418ByUtvWv"
      },
      "execution_count": null,
      "outputs": []
    },
    {
      "cell_type": "markdown",
      "source": [
        "QUES 18"
      ],
      "metadata": {
        "id": "5RFYpwzAsZwX"
      }
    },
    {
      "cell_type": "code",
      "source": [
        "import logging\n",
        "from logging.handlers import RotatingFileHandler\n",
        "\n",
        "handler = RotatingFileHandler(\"app.log\", maxBytes=1_000_000, backupCount=3)\n",
        "logging.basicConfig(handlers=[handler], level=logging.INFO)\n",
        "\n",
        "logging.info(\"This is a rotating log example.\")\n"
      ],
      "metadata": {
        "id": "fUfTeTGAtwUC"
      },
      "execution_count": null,
      "outputs": []
    },
    {
      "cell_type": "markdown",
      "source": [
        "QUES 19."
      ],
      "metadata": {
        "id": "fbV5AwNAsbTi"
      }
    },
    {
      "cell_type": "code",
      "source": [
        "try:\n",
        "    my_list = [1, 2]\n",
        "    print(my_list[5])\n",
        "    my_dict = {}\n",
        "    print(my_dict[\"name\"])\n",
        "except IndexError:\n",
        "    print(\"Index out of range.\")\n",
        "except KeyError:\n",
        "    print(\"Key not found.\")\n"
      ],
      "metadata": {
        "id": "MYtIyrc9txMo"
      },
      "execution_count": null,
      "outputs": []
    },
    {
      "cell_type": "markdown",
      "source": [
        "QUES 20."
      ],
      "metadata": {
        "id": "XFJJ0PhDsc1-"
      }
    },
    {
      "cell_type": "code",
      "source": [
        "with open(\"data.txt\", \"r\") as f:\n",
        "    print(f.read())\n"
      ],
      "metadata": {
        "id": "bZLrIR6GtyXR"
      },
      "execution_count": null,
      "outputs": []
    },
    {
      "cell_type": "markdown",
      "source": [
        "QUES 21."
      ],
      "metadata": {
        "id": "1QnK_O9sseUg"
      }
    },
    {
      "cell_type": "code",
      "source": [
        "word = \"python\"\n",
        "count = 0\n",
        "with open(\"data.txt\", \"r\") as f:\n",
        "    for line in f:\n",
        "        count += line.lower().split().count(word.lower())\n",
        "print(f\"The word '{word}' occurs {count} times.\")\n"
      ],
      "metadata": {
        "id": "QBda-fhit0aA"
      },
      "execution_count": null,
      "outputs": []
    },
    {
      "cell_type": "markdown",
      "source": [
        "QUES 22."
      ],
      "metadata": {
        "id": "zzEKHxK5sgmP"
      }
    },
    {
      "cell_type": "code",
      "source": [
        "import os\n",
        "\n",
        "if os.path.getsize(\"data.txt\") == 0:\n",
        "    print(\"File is empty.\")\n",
        "else:\n",
        "    print(\"File has content.\")\n"
      ],
      "metadata": {
        "id": "yQfTYS0Mtz8b"
      },
      "execution_count": null,
      "outputs": []
    },
    {
      "cell_type": "markdown",
      "source": [
        "QUES 23."
      ],
      "metadata": {
        "id": "kML-dVt8sh6T"
      }
    },
    {
      "cell_type": "code",
      "source": [
        "import logging\n",
        "logging.basicConfig(filename=\"errors.log\", level=logging.ERROR)\n",
        "\n",
        "try:\n",
        "    with open(\"missing.txt\", \"r\") as f:\n",
        "        print(f.read())\n",
        "except FileNotFoundError as e:\n",
        "    logging.error(\"File error: %s\", e)\n"
      ],
      "metadata": {
        "id": "MKduB8tRtzYq"
      },
      "execution_count": null,
      "outputs": []
    }
  ]
}